{
 "cells": [
  {
   "cell_type": "code",
   "execution_count": null,
   "id": "dc0a468e",
   "metadata": {},
   "outputs": [],
   "source": [
    "inicio = int(input(\"Ingrese el primer número: \"))\n",
    "fin = int(input(\"Ingrese el segundo número: \"))\n",
    "\n",
    "if inicio > fin:\n",
    "    inicio, fin = fin, inicio\n",
    "\n",
    "suma = 0\n",
    "for i in range(inicio + 1, fin):\n",
    "    suma += i\n",
    "\n",
    "print(f\"La suma de los números entre {inicio} y {fin} es: {suma}\")"
   ]
  }
 ],
 "metadata": {
  "language_info": {
   "name": "python"
  }
 },
 "nbformat": 4,
 "nbformat_minor": 5
}
