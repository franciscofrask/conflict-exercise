{
 "cells": [
  {
   "cell_type": "code",
   "execution_count": null,
   "id": "ccee726e",
   "metadata": {},
   "outputs": [],
   "source": [
    "numero = int(input(\"Ingrese un número entero: \"))\n",
    "if numero == 0:\n",
    "    print(\"El número tiene 1 dígito\")\n",
    "else:\n",
    "    contador = 0\n",
    "    num = abs(numero)\n",
    "    while num > 0:\n",
    "        contador += 1\n",
    "        num = num // 10\n",
    "    print(f\"El número tiene {contador} dígitos\")"
   ]
  }
 ],
 "metadata": {
  "language_info": {
   "name": "python"
  }
 },
 "nbformat": 4,
 "nbformat_minor": 5
}
