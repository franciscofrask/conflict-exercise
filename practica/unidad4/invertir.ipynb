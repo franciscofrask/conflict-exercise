{
 "cells": [
  {
   "cell_type": "code",
   "execution_count": null,
   "id": "aa9a6673",
   "metadata": {},
   "outputs": [],
   "source": [
    "numero = int(input(\"Ingrese un número: \"))\n",
    "invertido = 0\n",
    "original = numero\n",
    "\n",
    "while numero > 0:\n",
    "    digito = numero % 10\n",
    "    invertido = invertido * 10 + digito\n",
    "    numero = numero // 10\n",
    "\n",
    "print(f\"El número {original} invertido es: {invertido}\")"
   ]
  }
 ],
 "metadata": {
  "language_info": {
   "name": "python"
  }
 },
 "nbformat": 4,
 "nbformat_minor": 5
}
