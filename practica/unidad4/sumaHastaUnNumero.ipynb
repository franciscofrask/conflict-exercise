{
 "cells": [
  {
   "cell_type": "code",
   "execution_count": null,
   "id": "009c40c3",
   "metadata": {},
   "outputs": [],
   "source": [
    "limite = int(input(\"Ingrese un número entero positivo: \"))\n",
    "suma = 0\n",
    "for i in range(limite + 1):\n",
    "    suma += i\n",
    "print(f\"La suma de 0 a {limite} es: {suma}\")"
   ]
  }
 ],
 "metadata": {
  "language_info": {
   "name": "python"
  }
 },
 "nbformat": 4,
 "nbformat_minor": 5
}
