{
 "cells": [
  {
   "cell_type": "code",
   "execution_count": null,
   "id": "07c3fc08",
   "metadata": {},
   "outputs": [],
   "source": [
    "pares = 0\n",
    "impares = 0\n",
    "positivos = 0\n",
    "negativos = 0\n",
    "\n",
    "for _ in range(100):\n",
    "    num = int(input(\"Ingrese un número entero: \"))\n",
    "    if num % 2 == 0:\n",
    "        pares += 1\n",
    "    else:\n",
    "        impares += 1\n",
    "    if num > 0:\n",
    "        positivos += 1\n",
    "    elif num < 0:\n",
    "        negativos += 1\n",
    "\n",
    "print(f\"Pares: {pares}, Impares: {impares}\")\n",
    "print(f\"Positivos: {positivos}, Negativos: {negativos}\")"
   ]
  }
 ],
 "metadata": {
  "language_info": {
   "name": "python"
  }
 },
 "nbformat": 4,
 "nbformat_minor": 5
}
