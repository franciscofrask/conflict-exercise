{
 "cells": [
  {
   "cell_type": "code",
   "execution_count": null,
   "id": "8540fe22",
   "metadata": {},
   "outputs": [],
   "source": [
    "for i in range(100, -1, -2):\n",
    "    print(i)"
   ]
  }
 ],
 "metadata": {
  "language_info": {
   "name": "python"
  }
 },
 "nbformat": 4,
 "nbformat_minor": 5
}
