{
 "cells": [
  {
   "cell_type": "code",
   "execution_count": null,
   "id": "73b98557",
   "metadata": {},
   "outputs": [],
   "source": [
    "import random\n",
    "\n",
    "numero_secreto = random.randint(0, 9)\n",
    "intentos = 0\n",
    "\n",
    "while True:\n",
    "    intento = int(input(\"Adivina el número (0-9): \"))\n",
    "    intentos += 1\n",
    "    if intento == numero_secreto:\n",
    "        print(f\"¡Correcto! Adivinaste en {intentos} intentos.\")\n",
    "        break\n",
    "    elif intento < numero_secreto:\n",
    "        print(\"El número es mayor\")\n",
    "    else:\n",
    "        print(\"El número es menor\")"
   ]
  }
 ],
 "metadata": {
  "language_info": {
   "name": "python"
  }
 },
 "nbformat": 4,
 "nbformat_minor": 5
}
