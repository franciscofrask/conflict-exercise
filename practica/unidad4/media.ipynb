{
 "cells": [
  {
   "cell_type": "code",
   "execution_count": null,
   "id": "d893fd83",
   "metadata": {},
   "outputs": [],
   "source": [
    "suma = 0\n",
    "for i in range(100):\n",
    "    num = float(input(f\"Ingrese el número {i+1}: \"))\n",
    "    suma += num\n",
    "\n",
    "media = suma / 100\n",
    "print(f\"La media de los 100 números es: {media}\")\n"
   ]
  }
 ],
 "metadata": {
  "language_info": {
   "name": "python"
  }
 },
 "nbformat": 4,
 "nbformat_minor": 5
}
