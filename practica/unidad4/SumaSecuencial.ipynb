{
 "cells": [
  {
   "cell_type": "code",
   "execution_count": null,
   "id": "47a003f6",
   "metadata": {},
   "outputs": [],
   "source": [
    "suma = 0\n",
    "while True:\n",
    "    numero = int(input(\"Ingrese un número (0 para terminar): \"))\n",
    "    if numero == 0:\n",
    "        break\n",
    "    suma += numero\n",
    "print(f\"La suma total es: {suma}\")"
   ]
  }
 ],
 "metadata": {
  "language_info": {
   "name": "python"
  }
 },
 "nbformat": 4,
 "nbformat_minor": 5
}
