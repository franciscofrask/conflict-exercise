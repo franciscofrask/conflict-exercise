{
 "cells": [
  {
   "cell_type": "code",
   "execution_count": null,
   "id": "678bdc2d",
   "metadata": {},
   "outputs": [],
   "source": [
    "def factorial(n):\n",
    "    if n == 0 or n == 1:\n",
    "        return 1\n",
    "    else:\n",
    "        return n * factorial(n-1)\n",
    "\n",
    "def mostrar_factoriales(hasta):\n",
    "    for i in range(1, hasta + 1):\n",
    "        print(f\"Factorial de {i} es {factorial(i)}\")\n",
    "\n",
    "n = int(input(\"Ingrese un número entero positivo: \"))\n",
    "mostrar_factoriales(n)\n"
   ]
  },
  {
   "cell_type": "code",
   "execution_count": null,
   "id": "69da307c",
   "metadata": {},
   "outputs": [],
   "source": [
    "def fibonacci(n):\n",
    "    if n == 0:\n",
    "        return 0\n",
    "    elif n == 1:\n",
    "        return 1\n",
    "    else:\n",
    "        return fibonacci(n-1) + fibonacci(n-2)\n",
    "\n",
    "def mostrar_fibonacci(hasta):\n",
    "    for i in range(hasta):\n",
    "        print(fibonacci(i), end=\" \")\n",
    "    print()\n",
    "\n",
    "n = int(input(\"Ingrese la posición hasta la que desea la serie Fibonacci: \"))\n",
    "mostrar_fibonacci(n)\n"
   ]
  },
  {
   "cell_type": "code",
   "execution_count": null,
   "id": "3f5ee7e3",
   "metadata": {},
   "outputs": [],
   "source": [
    "def potencia(base, exponente):\n",
    "    if exponente == 0:\n",
    "        return 1\n",
    "    else:\n",
    "        return base * potencia(base, exponente - 1)\n",
    "\n",
    "b = int(input(\"Ingrese la base: \"))\n",
    "e = int(input(\"Ingrese el exponente: \"))\n",
    "print(f\"{b} elevado a {e} es {potencia(b, e)}\")\n"
   ]
  },
  {
   "cell_type": "code",
   "execution_count": null,
   "id": "192ed0dd",
   "metadata": {},
   "outputs": [],
   "source": [
    "def decimal_a_binario(n):\n",
    "    if n == 0:\n",
    "        return \"\"\n",
    "    else:\n",
    "        return decimal_a_binario(n // 2) + str(n % 2)\n",
    "\n",
    "num = int(input(\"Ingrese un número entero positivo: \"))\n",
    "binario = decimal_a_binario(num)\n",
    "if binario == \"\":\n",
    "    binario = \"0\"\n",
    "print(f\"El número {num} en binario es {binario}\")\n"
   ]
  },
  {
   "cell_type": "code",
   "execution_count": null,
   "id": "3531dbcf",
   "metadata": {},
   "outputs": [],
   "source": [
    "def es_palindromo(palabra):\n",
    "    if len(palabra) <= 1:\n",
    "        return True\n",
    "    if palabra[0] != palabra[-1]:\n",
    "        return False\n",
    "    return es_palindromo(palabra[1:-1])\n",
    "\n",
    "palabra = input(\"Ingrese una palabra sin espacios ni tildes: \").lower()\n",
    "print(\"Es palíndromo\" if es_palindromo(palabra) else \"No es palíndromo\")\n"
   ]
  },
  {
   "cell_type": "code",
   "execution_count": null,
   "id": "fc535954",
   "metadata": {},
   "outputs": [],
   "source": [
    "def suma_digitos(n):\n",
    "    if n == 0:\n",
    "        return 0\n",
    "    else:\n",
    "        return (n % 10) + suma_digitos(n // 10)\n",
    "\n",
    "num = int(input(\"Ingrese un número entero positivo: \"))\n",
    "print(f\"La suma de los dígitos es {suma_digitos(num)}\")\n"
   ]
  },
  {
   "cell_type": "code",
   "execution_count": null,
   "id": "356b46e8",
   "metadata": {},
   "outputs": [],
   "source": [
    "def contar_bloques(n):\n",
    "    if n == 1:\n",
    "        return 1\n",
    "    else:\n",
    "        return n + contar_bloques(n - 1)\n",
    "\n",
    "nivel = int(input(\"Ingrese la cantidad de bloques del nivel más bajo: \"))\n",
    "print(f\"El total de bloques necesarios es {contar_bloques(nivel)}\")\n"
   ]
  },
  {
   "cell_type": "code",
   "execution_count": null,
   "id": "285bc86e",
   "metadata": {},
   "outputs": [],
   "source": [
    "def contar_digito(numero, digito):\n",
    "    if numero == 0:\n",
    "        return 0\n",
    "    else:\n",
    "        return (1 if numero % 10 == digito else 0) + contar_digito(numero // 10, digito)\n",
    "\n",
    "num = int(input(\"Ingrese un número entero positivo: \"))\n",
    "dig = int(input(\"Ingrese el dígito a contar (0-9): \"))\n",
    "print(f\"El dígito {dig} aparece {contar_digito(num, dig)} veces en el número {num}\")\n"
   ]
  }
 ],
 "metadata": {
  "language_info": {
   "name": "python"
  }
 },
 "nbformat": 4,
 "nbformat_minor": 5
}
