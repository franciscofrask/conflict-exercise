{
 "cells": [
  {
   "cell_type": "code",
   "execution_count": null,
   "id": "8ea7d9d9",
   "metadata": {},
   "outputs": [],
   "source": [
    "import random\n",
    "from statistics import mode, median, mean\n",
    "\n",
    "numeros_aleatorios = [random.randint(1, 100) for _ in range(50)]\n",
    "media = mean(numeros_aleatorios)\n",
    "mediana = median(numeros_aleatorios)\n",
    "moda = mode(numeros_aleatorios)\n",
    "\n",
    "if media > mediana > moda:\n",
    "    print(\"Sesgo positivo (a la derecha)\")\n",
    "elif media < mediana < moda:\n",
    "    print(\"Sesgo negativo (a la izquierda)\")\n",
    "else:\n",
    "    print(\"Sin sesgo\")\n"
   ]
  }
 ],
 "metadata": {
  "language_info": {
   "name": "python"
  }
 },
 "nbformat": 4,
 "nbformat_minor": 5
}
