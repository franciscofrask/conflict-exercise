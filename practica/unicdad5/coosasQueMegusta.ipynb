{
 "cells": [
  {
   "cell_type": "code",
   "execution_count": null,
   "id": "446ec961",
   "metadata": {},
   "outputs": [],
   "source": [
    "cosas_que_me_gustan = [\"pizza\", \"gatos\", \"música\", \"playa\", \"videojuegos\"]\n",
    "print(cosas_que_me_gustan[-2])\n"
   ]
  }
 ],
 "metadata": {
  "language_info": {
   "name": "python"
  }
 },
 "nbformat": 4,
 "nbformat_minor": 5
}
