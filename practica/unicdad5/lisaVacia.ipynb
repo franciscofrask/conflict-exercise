{
 "cells": [
  {
   "cell_type": "code",
   "execution_count": null,
   "id": "006ef437",
   "metadata": {},
   "outputs": [],
   "source": [
    "lista_vacia = []\n",
    "lista_vacia.append(\"sol\")\n",
    "lista_vacia.append(\"luna\")\n",
    "lista_vacia.append(\"estrella\")\n",
    "print(lista_vacia)\n"
   ]
  }
 ],
 "metadata": {
  "language_info": {
   "name": "python"
  }
 },
 "nbformat": 4,
 "nbformat_minor": 5
}
