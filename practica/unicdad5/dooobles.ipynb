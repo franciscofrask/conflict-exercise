{
 "cells": [
  {
   "cell_type": "code",
   "execution_count": null,
   "id": "83e6019a",
   "metadata": {},
   "outputs": [],
   "source": [
    "dobles = []\n",
    "dobles.append(5 * 2)\n",
    "dobles.append(10 * 2)\n",
    "dobles.append(15 * 2)\n",
    "print(dobles)\n"
   ]
  }
 ],
 "metadata": {
  "language_info": {
   "name": "python"
  }
 },
 "nbformat": 4,
 "nbformat_minor": 5
}
