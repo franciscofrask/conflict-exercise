{
 "cells": [
  {
   "cell_type": "code",
   "execution_count": null,
   "id": "5b1a92cf",
   "metadata": {},
   "outputs": [],
   "source": [
    "numeros = list(range(10, 31, 5))\n",
    "print(numeros[:2])\n"
   ]
  }
 ],
 "metadata": {
  "language_info": {
   "name": "python"
  }
 },
 "nbformat": 4,
 "nbformat_minor": 5
}
