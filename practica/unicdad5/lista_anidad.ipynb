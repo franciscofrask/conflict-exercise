{
 "cells": [
  {
   "cell_type": "code",
   "execution_count": null,
   "id": "41e78501",
   "metadata": {},
   "outputs": [],
   "source": [
    "lista_anidada = [15, True, [25.5, 57.9, 30.6], False]\n",
    "print(lista_anidada)\n"
   ]
  }
 ],
 "metadata": {
  "language_info": {
   "name": "python"
  }
 },
 "nbformat": 4,
 "nbformat_minor": 5
}
