{
 "cells": [
  {
   "cell_type": "code",
   "execution_count": null,
   "id": "3520cd3c",
   "metadata": {},
   "outputs": [],
   "source": [
    "animales = [\"perro\", \"gato\", \"conejo\", \"pez\"]\n",
    "animales[1] = \"loro\"\n",
    "animales[-1] = \"oso\"\n",
    "print(animales)\n"
   ]
  }
 ],
 "metadata": {
  "language_info": {
   "name": "python"
  }
 },
 "nbformat": 4,
 "nbformat_minor": 5
}
