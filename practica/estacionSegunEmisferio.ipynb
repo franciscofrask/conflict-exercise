{
 "cells": [
  {
   "cell_type": "code",
   "execution_count": null,
   "id": "5bafe00a",
   "metadata": {},
   "outputs": [],
   "source": [
    "hemisferio = input(\"Ingrese su hemisferio (N/S): \").upper()\n",
    "mes = int(input(\"Ingrese el mes (1-12): \"))\n",
    "dia = int(input(\"Ingrese el día: \"))\n",
    "\n",
    "if hemisferio == \"N\":\n",
    "    if (mes == 12 and dia >= 21) or mes in [1, 2] or (mes == 3 and dia <= 20):\n",
    "        print(\"Invierno\")\n",
    "    elif (mes == 3 and dia >= 21) or mes in [4, 5] or (mes == 6 and dia <= 20):\n",
    "        print(\"Primavera\")\n",
    "    elif (mes == 6 and dia >= 21) or mes in [7, 8] or (mes == 9 and dia <= 20):\n",
    "        print(\"Verano\")\n",
    "    else:\n",
    "        print(\"Otoño\")\n",
    "elif hemisferio == \"S\":\n",
    "    if (mes == 12 and dia >= 21) or mes in [1, 2] or (mes == 3 and dia <= 20):\n",
    "        print(\"Verano\")\n",
    "    elif (mes == 3 and dia >= 21) or mes in [4, 5] or (mes == 6 and dia <= 20):\n",
    "        print(\"Otoño\")\n",
    "    elif (mes == 6 and dia >= 21) or mes in [7, 8] or (mes == 9 and dia <= 20):\n",
    "        print(\"Invierno\")\n",
    "    else:\n",
    "        print(\"Primavera\")\n",
    "else:\n",
    "    print(\"Hemisferio no válido.\")\n"
   ]
  }
 ],
 "metadata": {
  "language_info": {
   "name": "python"
  }
 },
 "nbformat": 4,
 "nbformat_minor": 5
}
