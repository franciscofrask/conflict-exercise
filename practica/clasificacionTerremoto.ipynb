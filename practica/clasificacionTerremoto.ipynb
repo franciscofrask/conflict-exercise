{
 "cells": [
  {
   "cell_type": "code",
   "execution_count": null,
   "id": "bd2cab35",
   "metadata": {},
   "outputs": [],
   "source": [
    "magnitud = float(input(\"Ingrese la magnitud del terremoto: \"))\n",
    "\n",
    "if magnitud < 3:\n",
    "    print(\"Muy leve (imperceptible)\")\n",
    "elif 3 <= magnitud < 4:\n",
    "    print(\"Leve (ligeramente perceptible)\")\n",
    "elif 4 <= magnitud < 5:\n",
    "    print(\"Moderado (sentido por personas)\")\n",
    "elif 5 <= magnitud < 6:\n",
    "    print(\"Fuerte (puede causar daños en estructuras débiles)\")\n",
    "elif 6 <= magnitud < 7:\n",
    "    print(\"Muy fuerte (puede causar daños significativos)\")\n",
    "else:\n",
    "    print(\"Extremo (puede causar graves daños)\")\n"
   ]
  }
 ],
 "metadata": {
  "language_info": {
   "name": "python"
  }
 },
 "nbformat": 4,
 "nbformat_minor": 5
}
