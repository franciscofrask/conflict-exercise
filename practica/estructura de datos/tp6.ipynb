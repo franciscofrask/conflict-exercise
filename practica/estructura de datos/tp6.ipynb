{
 "cells": [
  {
   "cell_type": "code",
   "execution_count": null,
   "id": "d5dd2d45",
   "metadata": {},
   "outputs": [],
   "source": [
    "precios_frutas = {'Banana': 1200, 'Anana': 2500, 'Melón': 3000, 'Uva': 1450}\n",
    "\n",
    "# Agregar nuevas frutas\n",
    "precios_frutas[\"Naranja\"] = 1200\n",
    "precios_frutas[\"Manzana\"] = 1500\n",
    "precios_frutas[\"Pera\"] = 2300\n",
    "\n",
    "print(precios_frutas)\n"
   ]
  },
  {
   "cell_type": "code",
   "execution_count": null,
   "id": "5e01893e",
   "metadata": {},
   "outputs": [],
   "source": [
    "# Actualizar los precios de las frutas\n",
    "precios_frutas[\"Banana\"] = 1330\n",
    "precios_frutas[\"Manzana\"] = 1700\n",
    "precios_frutas[\"Melón\"] = 2800\n",
    "\n",
    "print(precios_frutas)\n"
   ]
  },
  {
   "cell_type": "code",
   "execution_count": null,
   "id": "a4e07a20",
   "metadata": {},
   "outputs": [],
   "source": [
    "frutas = list(precios_frutas.keys())\n",
    "print(frutas)\n"
   ]
  },
  {
   "cell_type": "code",
   "execution_count": null,
   "id": "7a238be9",
   "metadata": {},
   "outputs": [],
   "source": [
    "contactos = {}\n",
    "\n",
    "# Cargar 5 contactos\n",
    "for _ in range(5):\n",
    "    nombre = input(\"Ingrese nombre del contacto: \")\n",
    "    numero = input(f\"Ingrese número de {nombre}: \")\n",
    "    contactos[nombre] = numero\n",
    "\n",
    "# Consultar un número por nombre\n",
    "consulta = input(\"Ingrese el nombre a buscar: \")\n",
    "print(contactos.get(consulta, \"No encontrado\"))\n"
   ]
  },
  {
   "cell_type": "code",
   "execution_count": null,
   "id": "021f3638",
   "metadata": {},
   "outputs": [],
   "source": [
    "frase = input(\"Ingrese una frase: \")\n",
    "palabras = frase.split()\n",
    "\n",
    "# Palabras únicas\n",
    "palabras_unicas = set(palabras)\n",
    "\n",
    "# Recuento de palabras\n",
    "from collections import Counter\n",
    "recuento = Counter(palabras)\n",
    "\n",
    "print(f\"Palabras únicas: {palabras_unicas}\")\n",
    "print(f\"Recuento: {recuento}\")\n"
   ]
  },
  {
   "cell_type": "code",
   "execution_count": null,
   "id": "01373c08",
   "metadata": {},
   "outputs": [],
   "source": [
    "alumnos = {}\n",
    "\n",
    "# Cargar nombres y notas\n",
    "for _ in range(3):\n",
    "    nombre = input(\"Ingrese nombre del alumno: \")\n",
    "    notas = tuple(map(int, input(f\"Ingrese las 3 notas de {nombre} separadas por espacio: \").split()))\n",
    "    alumnos[nombre] = notas\n",
    "\n",
    "# Calcular promedio\n",
    "for alumno, notas in alumnos.items():\n",
    "    promedio = sum(notas) / len(notas)\n",
    "    print(f\"{alumno}: promedio {promedio:.2f}\")\n"
   ]
  },
  {
   "cell_type": "code",
   "execution_count": null,
   "id": "3c589ff6",
   "metadata": {},
   "outputs": [],
   "source": [
    "parcial1 = {1, 2, 3, 4, 5}  # IDs de estudiantes\n",
    "parcial2 = {3, 4, 5, 6, 7}\n",
    "\n",
    "# Aprobados en ambos parciales\n",
    "print(\"Aprobados en ambos:\", parcial1 & parcial2)\n",
    "\n",
    "# Aprobados solo en uno\n",
    "print(\"Solo un parcial:\", parcial1 ^ parcial2)\n",
    "\n",
    "# Total aprobados (sin repetir)\n",
    "print(\"Total aprobados:\", parcial1 | parcial2)\n"
   ]
  },
  {
   "cell_type": "code",
   "execution_count": null,
   "id": "11a01f9b",
   "metadata": {},
   "outputs": [],
   "source": [
    "stock = {}\n",
    "\n",
    "while True:\n",
    "    producto = input(\"Ingrese nombre del producto: \")\n",
    "    if producto in stock:\n",
    "        unidades = int(input(f\"Ingrese unidades para agregar en {producto}: \"))\n",
    "        stock[producto] += unidades\n",
    "    else:\n",
    "        unidades = int(input(f\"Producto nuevo. Ingrese cantidad inicial de {producto}: \"))\n",
    "        stock[producto] = unidades\n",
    "\n",
    "    consulta = input(\"¿Consultar stock de un producto? (sí/no): \")\n",
    "    if consulta.lower() == \"sí\":\n",
    "        nombre = input(\"Ingrese producto: \")\n",
    "        print(f\"Stock de {nombre}: {stock.get(nombre, 'Producto no encontrado')}\")\n"
   ]
  },
  {
   "cell_type": "markdown",
   "id": "6de68403",
   "metadata": {},
   "source": []
  },
  {
   "cell_type": "code",
   "execution_count": null,
   "id": "cf5271e9",
   "metadata": {},
   "outputs": [],
   "source": [
    "agenda = {\n",
    "    (\"lunes\", \"10:00\"): \"Reunión\",\n",
    "    (\"martes\", \"15:00\"): \"Clase de inglés\"\n",
    "}\n",
    "\n",
    "# Consultar actividad\n",
    "dia = input(\"Ingrese día: \")\n",
    "hora = input(\"Ingrese hora: \")\n",
    "print(agenda.get((dia, hora), \"No hay actividad programada.\"))\n"
   ]
  },
  {
   "cell_type": "code",
   "execution_count": null,
   "id": "c269d02c",
   "metadata": {},
   "outputs": [],
   "source": [
    "original = {\"Argentina\": \"Buenos Aires\", \"Chile\": \"Santiago\"}\n",
    "\n",
    "invertido = {capital: pais for pais, capital in original.items()}\n",
    "print(invertido)\n"
   ]
  }
 ],
 "metadata": {
  "language_info": {
   "name": "python"
  }
 },
 "nbformat": 4,
 "nbformat_minor": 5
}
