{
 "cells": [
  {
   "cell_type": "code",
   "execution_count": null,
   "id": "d95ee669",
   "metadata": {},
   "outputs": [],
   "source": [
    "import math"
   ]
  },
  {
   "cell_type": "code",
   "execution_count": null,
   "id": "2c7a0a8f",
   "metadata": {},
   "outputs": [],
   "source": [
    "def imprimir_hola_mundo():\n",
    "    print(\"Hola Mundo!\")"
   ]
  },
  {
   "cell_type": "code",
   "execution_count": null,
   "id": "9d7d5c28",
   "metadata": {},
   "outputs": [],
   "source": [
    "def saludar_usuario(nombre):\n",
    "    return f\"Hola {nombre}!\"\n"
   ]
  },
  {
   "cell_type": "code",
   "execution_count": null,
   "id": "7d571cb1",
   "metadata": {},
   "outputs": [],
   "source": [
    "def informacion_personal(nombre, apellido, edad, residencia):\n",
    "    print(f\"Soy {nombre} {apellido}, tengo {edad} años y vivo en {residencia}\")"
   ]
  },
  {
   "cell_type": "code",
   "execution_count": null,
   "id": "8295bbbe",
   "metadata": {},
   "outputs": [],
   "source": [
    "def calcular_area_circulo(radio):\n",
    "    return math.pi * radio ** 2\n"
   ]
  },
  {
   "cell_type": "code",
   "execution_count": null,
   "id": "33397caf",
   "metadata": {},
   "outputs": [],
   "source": [
    "def calcular_perimetro_circulo(radio):\n",
    "    return 2 * math.pi * radio"
   ]
  },
  {
   "cell_type": "code",
   "execution_count": null,
   "id": "2cd018f0",
   "metadata": {},
   "outputs": [],
   "source": [
    "def segundos_a_horas(segundos):\n",
    "    return segundos / 3600"
   ]
  },
  {
   "cell_type": "code",
   "execution_count": null,
   "id": "89ec76a1",
   "metadata": {},
   "outputs": [],
   "source": [
    "def tabla_multiplicar(numero):\n",
    "    print(f\"Tabla de multiplicar del {numero}:\")\n",
    "    for i in range(1, 11):\n",
    "        print(f\"{numero} x {i} = {numero * i}\")"
   ]
  },
  {
   "cell_type": "code",
   "execution_count": null,
   "id": "f903703e",
   "metadata": {},
   "outputs": [],
   "source": [
    "def operaciones_basicas(a, b):\n",
    "    suma = a + b\n",
    "    resta = a - b\n",
    "    multiplicacion = a * b\n",
    "    division = a / b if b != 0 else \"No se puede dividir por cero\"\n",
    "    return (suma, resta, multiplicacion, division)\n"
   ]
  },
  {
   "cell_type": "code",
   "execution_count": null,
   "id": "af745259",
   "metadata": {},
   "outputs": [],
   "source": [
    "def calcular_imc(peso, altura):\n",
    "    imc = peso / (altura ** 2)\n",
    "    return imc"
   ]
  },
  {
   "cell_type": "code",
   "execution_count": null,
   "id": "5d5a59f4",
   "metadata": {},
   "outputs": [],
   "source": [
    "def celsius_a_fahrenheit(celsius):\n",
    "    return (celsius * 9/5) + 32\n"
   ]
  },
  {
   "cell_type": "code",
   "execution_count": null,
   "id": "2edef0d0",
   "metadata": {},
   "outputs": [],
   "source": [
    "def calcular_promedio(a, b, c):\n",
    "    return (a + b + c) / 3"
   ]
  }
 ],
 "metadata": {
  "kernelspec": {
   "display_name": "base",
   "language": "python",
   "name": "python3"
  },
  "language_info": {
   "name": "python",
   "version": "3.9.13"
  }
 },
 "nbformat": 4,
 "nbformat_minor": 5
}
