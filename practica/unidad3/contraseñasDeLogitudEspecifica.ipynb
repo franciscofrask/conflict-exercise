{
 "cells": [
  {
   "cell_type": "code",
   "execution_count": null,
   "id": "e120c476",
   "metadata": {},
   "outputs": [],
   "source": [
    "contraseña = input(\"Ingrese una contraseña: \")\n",
    "\n",
    "if 8 <= len(contraseña) <= 14:\n",
    "    print(\"Ha ingresado una contraseña correcta.\")\n",
    "else:\n",
    "    print(\"Por favor, ingrese una contraseña de entre 8 y 14 caracteres.\")\n"
   ]
  }
 ],
 "metadata": {
  "language_info": {
   "name": "python"
  }
 },
 "nbformat": 4,
 "nbformat_minor": 5
}
