{
 "cells": [
  {
   "cell_type": "code",
   "execution_count": null,
   "id": "9e2a9458",
   "metadata": {},
   "outputs": [],
   "source": [
    "nombre = input(\"Ingrese su nombre: \")\n",
    "opcion = int(input(\"Seleccione una opción (1-Mayúsculas, 2-Minúsculas, 3-Título): \"))\n",
    "\n",
    "if opcion == 1:\n",
    "    print(nombre.upper())\n",
    "elif opcion == 2:\n",
    "    print(nombre.lower())\n",
    "elif opcion == 3:\n",
    "    print(nombre.title())\n",
    "else:\n",
    "    print(\"Opción inválida.\")\n"
   ]
  }
 ],
 "metadata": {
  "language_info": {
   "name": "python"
  }
 },
 "nbformat": 4,
 "nbformat_minor": 5
}
