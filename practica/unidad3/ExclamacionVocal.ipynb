{
 "cells": [
  {
   "cell_type": "code",
   "execution_count": null,
   "id": "5347d903",
   "metadata": {},
   "outputs": [],
   "source": [
    "frase = input(\"Ingrese una frase o palabra: \")\n",
    "\n",
    "if frase[-1].lower() in \"aeiou\":\n",
    "    frase += \"!\"\n",
    "    \n",
    "print(frase)\n"
   ]
  }
 ],
 "metadata": {
  "language_info": {
   "name": "python"
  }
 },
 "nbformat": 4,
 "nbformat_minor": 5
}
